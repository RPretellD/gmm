{
 "cells": [
  {
   "cell_type": "code",
   "execution_count": 1,
   "id": "6b022234",
   "metadata": {},
   "outputs": [],
   "source": [
    "import os, sys\n",
    "import numpy as np\n",
    "import pandas as pd\n",
    "import gmms"
   ]
  },
  {
   "cell_type": "markdown",
   "id": "436babc8",
   "metadata": {},
   "source": [
    "# Example: 1989 Loma Prieta Earthquake"
   ]
  },
  {
   "cell_type": "markdown",
   "id": "f80f1f80",
   "metadata": {},
   "source": [
    "## Earthquake parameters"
   ]
  },
  {
   "cell_type": "code",
   "execution_count": 2,
   "id": "726c70b2",
   "metadata": {},
   "outputs": [],
   "source": [
    "M      = 6.93\n",
    "hyp_Z  = 17.48\n",
    "region = 'Global' # regionalized models for 'Japan', 'Italy', and 'China'"
   ]
  },
  {
   "cell_type": "markdown",
   "id": "2c06b0ba",
   "metadata": {},
   "source": [
    "## Fault model"
   ]
  },
  {
   "cell_type": "code",
   "execution_count": 3,
   "id": "ccf1106a",
   "metadata": {},
   "outputs": [],
   "source": [
    "ULC_lat = 37.19\n",
    "ULC_lon = -122.03\n",
    "flength = 40.\n",
    "fwidth  = 18\n",
    "fstrike = 128.\n",
    "fdip    = 70.\n",
    "frake   = 140.\n",
    "fZtor   = 3.85"
   ]
  },
  {
   "cell_type": "markdown",
   "id": "28524a30",
   "metadata": {},
   "source": [
    "## Site parameters"
   ]
  },
  {
   "cell_type": "code",
   "execution_count": 4,
   "id": "ff895679",
   "metadata": {},
   "outputs": [],
   "source": [
    "site_lat  = 37.825\n",
    "site_lon  = -122.373\n",
    "site_Vs30 = 155.11"
   ]
  },
  {
   "cell_type": "markdown",
   "id": "147ddf66",
   "metadata": {},
   "source": [
    "## Convert to arrays"
   ]
  },
  {
   "cell_type": "code",
   "execution_count": 5,
   "id": "2a550f9c",
   "metadata": {},
   "outputs": [],
   "source": [
    "vals = []\n",
    "for val in zip([ULC_lat,ULC_lon,flength,fwidth,fstrike,fdip,frake,fZtor,site_lat,site_lon,site_Vs30]):\n",
    "    if isinstance(val[0],np.ndarray):\n",
    "        vals.append(val[0])\n",
    "    elif isinstance(val[0], (int, float)):\n",
    "        vals.append(np.array([float(val[0])]))\n",
    "    elif isinstance(val[0], (list, tuple)):\n",
    "        vals.append(np.array(val[0], dtype=float))\n",
    "    else:\n",
    "        vals.append(val[0])\n",
    "[ULC_lat,ULC_lon,flength,fwidth,fstrike,fdip,frake,fZtor,site_lat,site_lon,site_Vs30] = vals"
   ]
  },
  {
   "cell_type": "markdown",
   "id": "1fe09a49",
   "metadata": {},
   "source": [
    "## Compute fault parameters"
   ]
  },
  {
   "cell_type": "code",
   "execution_count": 6,
   "id": "1e016d61",
   "metadata": {},
   "outputs": [],
   "source": [
    "[URC_lat,URC_lon] = gmms.get_fault_URC(ULC_lat,ULC_lon,flength,fstrike)\n",
    "[fnm,frv,fmech]   = gmms.get_faulting_style(frake)"
   ]
  },
  {
   "cell_type": "markdown",
   "id": "bb43e217",
   "metadata": {},
   "source": [
    "## Compute site parameters"
   ]
  },
  {
   "cell_type": "code",
   "execution_count": 7,
   "id": "2020a768",
   "metadata": {},
   "outputs": [],
   "source": [
    "site_Z1p0 = np.exp((-7.15/4)*np.log((site_Vs30**4+571**4)/(1360**4+571**4))) # BSSA14\n",
    "site_Z2p5 = np.exp(7.089-1.144*np.log(site_Vs30))                            # CB13"
   ]
  },
  {
   "cell_type": "code",
   "execution_count": 8,
   "id": "57a9c372",
   "metadata": {},
   "outputs": [],
   "source": [
    "[R_JB,R_rup,R_x] = gmms.get_distances_cy(site_lat,site_lon,ULC_lat,ULC_lon,URC_lat,URC_lon,fwidth,flength,fdip,fstrike,fZtor)"
   ]
  },
  {
   "cell_type": "code",
   "execution_count": 9,
   "id": "5f5d8f4a",
   "metadata": {},
   "outputs": [
    {
     "name": "stdout",
     "output_type": "stream",
     "text": [
      "Rjb  = 76.72 km\n",
      "Rrup = 76.82 km\n",
      "Rx   = -37.00 km\n"
     ]
    }
   ],
   "source": [
    "print('Rjb  = {:.2f} km'.format(R_JB[0]))\n",
    "print('Rrup = {:.2f} km'.format(R_rup[0]))\n",
    "print('Rx   = {:.2f} km'.format(R_x[0]))"
   ]
  },
  {
   "cell_type": "markdown",
   "id": "a849b53e",
   "metadata": {},
   "source": [
    "## Compute ground motions"
   ]
  },
  {
   "cell_type": "markdown",
   "id": "60cccd6e",
   "metadata": {},
   "source": [
    "### CAVgm"
   ]
  },
  {
   "cell_type": "code",
   "execution_count": 10,
   "id": "21dcdef0",
   "metadata": {},
   "outputs": [
    {
     "name": "stdout",
     "output_type": "stream",
     "text": [
      "CAVstd = 0.53 m/s\n"
     ]
    }
   ],
   "source": [
    "[mu,phi,tau] = gmms.CampbellBozorgnia2010.CampbellBozorgnia2010_cy(M,fdip[0],fZtor[0],R_JB,R_rup,R_x,site_Vs30,site_Z2p5,fnm,frv)\n",
    "print('CAVstd = {:.2f} m/s'.format(np.exp(mu[0])))"
   ]
  },
  {
   "cell_type": "markdown",
   "id": "d649257f",
   "metadata": {},
   "source": [
    "### CAVdp"
   ]
  },
  {
   "cell_type": "code",
   "execution_count": 11,
   "id": "0a4991f6",
   "metadata": {},
   "outputs": [],
   "source": [
    "flag_CAVstd = 1 # '0' for recorded, '1' for gmm-based\n",
    "flag_PSV    = 0 # '0' for no PSV check, '1' otherwise"
   ]
  },
  {
   "cell_type": "code",
   "execution_count": 12,
   "id": "a9259511",
   "metadata": {},
   "outputs": [
    {
     "name": "stdout",
     "output_type": "stream",
     "text": [
      "CAVdp = 0.37 m/s\n"
     ]
    }
   ],
   "source": [
    "[mu,phi,tau] = gmms.CampbellBozorgnia2011.CampbellBozorgnia2011_cy(M,fdip[0],fZtor[0],R_JB,R_rup,R_x,site_Vs30,site_Z1p0,site_Z2p5,fnm,frv,flag_CAVstd,flag_PSV)\n",
    "print('CAVdp = {:.2f} m/s'.format(np.exp(mu[0])))"
   ]
  },
  {
   "cell_type": "markdown",
   "id": "2775ab5a",
   "metadata": {},
   "source": [
    "### Arias Intensity"
   ]
  },
  {
   "cell_type": "code",
   "execution_count": 13,
   "id": "f3a08513",
   "metadata": {},
   "outputs": [
    {
     "name": "stdout",
     "output_type": "stream",
     "text": [
      "Ia = 0.20 m/s\n"
     ]
    }
   ],
   "source": [
    "[mu,phi,tau] = gmms.CampbellBozorgnia2019.CampbellBozorgnia2019_cy(0,M,fwidth[0],fdip[0],fZtor[0],hyp_Z,R_JB,R_rup,R_x,site_Vs30,site_Z2p5,fnm,frv,region)\n",
    "print('Ia = {:.2f} m/s'.format(np.exp(mu[0])))"
   ]
  },
  {
   "cell_type": "markdown",
   "id": "1603f44a",
   "metadata": {},
   "source": [
    "### Cumulative absolute velocity"
   ]
  },
  {
   "cell_type": "code",
   "execution_count": 14,
   "id": "55b929c8",
   "metadata": {},
   "outputs": [
    {
     "name": "stdout",
     "output_type": "stream",
     "text": [
      "CAV = 5.53 m/s\n"
     ]
    }
   ],
   "source": [
    "[mu,phi,tau] = gmms.CampbellBozorgnia2019.CampbellBozorgnia2019_cy(1,M,fwidth[0],fdip[0],fZtor[0],hyp_Z,R_JB,R_rup,R_x,site_Vs30,site_Z2p5,fnm,frv,region)\n",
    "print('CAV = {:.2f} m/s'.format(np.exp(mu[0])))"
   ]
  },
  {
   "cell_type": "code",
   "execution_count": null,
   "id": "55c18c5b",
   "metadata": {},
   "outputs": [],
   "source": []
  }
 ],
 "metadata": {
  "kernelspec": {
   "display_name": "Python 3 (ipykernel)",
   "language": "python",
   "name": "python3"
  },
  "language_info": {
   "codemirror_mode": {
    "name": "ipython",
    "version": 3
   },
   "file_extension": ".py",
   "mimetype": "text/x-python",
   "name": "python",
   "nbconvert_exporter": "python",
   "pygments_lexer": "ipython3",
   "version": "3.9.13"
  }
 },
 "nbformat": 4,
 "nbformat_minor": 5
}
