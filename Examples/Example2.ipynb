{
 "cells": [
  {
   "cell_type": "code",
   "execution_count": 1,
   "id": "6b022234",
   "metadata": {},
   "outputs": [],
   "source": [
    "import numpy as np\n",
    "import gmms"
   ]
  },
  {
   "cell_type": "markdown",
   "id": "e69e1f9c",
   "metadata": {},
   "source": [
    "# Example: 2023 Pazarcik Earthquake"
   ]
  },
  {
   "cell_type": "markdown",
   "id": "ae95b182",
   "metadata": {},
   "source": [
    "## Earthquake parameters"
   ]
  },
  {
   "cell_type": "code",
   "execution_count": 2,
   "id": "9ec89c05",
   "metadata": {},
   "outputs": [],
   "source": [
    "M      = 7.8\n",
    "hyp_Z  = 10\n",
    "region = 'Global' # regionalized models for 'Japan', 'Italy', and 'China'"
   ]
  },
  {
   "cell_type": "markdown",
   "id": "8cb56055",
   "metadata": {},
   "source": [
    "## Multi-segment fault model"
   ]
  },
  {
   "cell_type": "code",
   "execution_count": 3,
   "id": "36bd47f8",
   "metadata": {},
   "outputs": [],
   "source": [
    "ULC_lat = [37.1198,37.5917,37.3949,37.0460,36.1448,37.8854]\n",
    "ULC_lon = [36.9253,37.3195,36.8728,36.6052,36.1902,37.8136]\n",
    "flength = [63,54,45,45,108,90]\n",
    "fwidth  = [21,21,21,21,21,21]\n",
    "fstrike = [33.5,53,61,32,20,70]\n",
    "fdip    = [90,90,90,90,90,90]\n",
    "frake   = [11,11,11,11,11,11]\n",
    "fZtor   = [0.3,0.3,0.3,0.6,0.9,0.6]"
   ]
  },
  {
   "cell_type": "markdown",
   "id": "ef87ea0a",
   "metadata": {},
   "source": [
    "## Site parameters"
   ]
  },
  {
   "cell_type": "code",
   "execution_count": 4,
   "id": "a5d8490d",
   "metadata": {},
   "outputs": [],
   "source": [
    "site_lat  = [36.77006,37.4339]\n",
    "site_lon  = [35.79005,35.82021]\n",
    "site_Vs30 = [439,501]"
   ]
  },
  {
   "cell_type": "markdown",
   "id": "b91e7760",
   "metadata": {},
   "source": [
    "## Convert input parameters to arrays"
   ]
  },
  {
   "cell_type": "code",
   "execution_count": 5,
   "id": "89d5e3b3",
   "metadata": {},
   "outputs": [],
   "source": [
    "vals = []\n",
    "for val in zip([ULC_lat,ULC_lon,flength,fwidth,fstrike,fdip,frake,fZtor,site_lat,site_lon,site_Vs30]):\n",
    "    if isinstance(val[0],np.ndarray):\n",
    "        vals.append(val[0])\n",
    "    elif isinstance(val[0], (int, float)):\n",
    "        vals.append(np.array([float(val[0])]))\n",
    "    elif isinstance(val[0], (list, tuple)):\n",
    "        vals.append(np.array(val[0], dtype=float))\n",
    "    else:\n",
    "        vals.append(val[0])\n",
    "[ULC_lat,ULC_lon,flength,fwidth,fstrike,fdip,frake,fZtor,site_lat,site_lon,site_Vs30] = vals"
   ]
  },
  {
   "cell_type": "markdown",
   "id": "8d3543c7",
   "metadata": {},
   "source": [
    "## Compute fault parameters"
   ]
  },
  {
   "cell_type": "code",
   "execution_count": 6,
   "id": "755f0c7e",
   "metadata": {},
   "outputs": [],
   "source": [
    "[URC_lat,URC_lon]                         = gmms.get_fault_URC(ULC_lat,ULC_lon,flength,fstrike)\n",
    "[gmm_frake,gmm_fwidth,gmm_fdip,gmm_fZtor] = gmms.get_representative_fault(frake,fwidth,flength,fdip,fZtor)\n",
    "[fnm,frv,fmech]                           = gmms.get_faulting_style(gmm_frake)"
   ]
  },
  {
   "cell_type": "markdown",
   "id": "5975bbf7",
   "metadata": {},
   "source": [
    "## Compute site parameters"
   ]
  },
  {
   "cell_type": "code",
   "execution_count": 7,
   "id": "c539d70c",
   "metadata": {},
   "outputs": [],
   "source": [
    "site_Z1p0 = np.exp((-7.15/4)*np.log((site_Vs30**4+571**4)/(1360**4+571**4))) # BSSA14\n",
    "site_Z2p5 = np.exp(7.089-1.144*np.log(site_Vs30))                            # CB13"
   ]
  },
  {
   "cell_type": "code",
   "execution_count": 8,
   "id": "260ac00b",
   "metadata": {},
   "outputs": [],
   "source": [
    "[R_JB,R_rup,R_x] = gmms.get_distances_cy(site_lat,site_lon,ULC_lat,ULC_lon,URC_lat,URC_lon,fwidth,flength,fdip,fstrike,fZtor)"
   ]
  },
  {
   "cell_type": "code",
   "execution_count": 9,
   "id": "cee2f1a6",
   "metadata": {},
   "outputs": [
    {
     "name": "stdout",
     "output_type": "stream",
     "text": [
      "Site 1:\n",
      "Rjb  = 57.35 km\n",
      "Rrup = 57.36 km\n",
      "Rx   = -57.22 km\n",
      "\n",
      "Site 2:\n",
      "Rjb  = 81.17 km\n",
      "Rrup = 81.18 km\n",
      "Rx   = -79.57 km\n",
      "\n"
     ]
    }
   ],
   "source": [
    "for i in range(len(R_JB)):\n",
    "    print('Site {}:'.format(i+1))\n",
    "    print('Rjb  = {:.2f} km'.format(R_JB[i]))\n",
    "    print('Rrup = {:.2f} km'.format(R_rup[i]))\n",
    "    print('Rx   = {:.2f} km\\n'.format(R_x[i]))"
   ]
  },
  {
   "cell_type": "markdown",
   "id": "fd1667ca",
   "metadata": {},
   "source": [
    "## Compute ground motion intensity measures"
   ]
  },
  {
   "cell_type": "markdown",
   "id": "8d236826",
   "metadata": {},
   "source": [
    "### CAVgm"
   ]
  },
  {
   "cell_type": "code",
   "execution_count": 10,
   "id": "5fa7c447",
   "metadata": {},
   "outputs": [],
   "source": [
    "[mu,phi,tau] = gmms.CampbellBozorgnia2010.CampbellBozorgnia2010_cy(M,gmm_fdip,gmm_fZtor,R_JB,R_rup,R_x,site_Vs30,site_Z2p5,fnm,frv)"
   ]
  },
  {
   "cell_type": "code",
   "execution_count": 11,
   "id": "4f735f83",
   "metadata": {},
   "outputs": [
    {
     "name": "stdout",
     "output_type": "stream",
     "text": [
      "Site 1:\n",
      "CAVgm = 0.62 g-s\n",
      "\n",
      "Site 2:\n",
      "CAVgm = 0.46 g-s\n",
      "\n"
     ]
    }
   ],
   "source": [
    "for i in range(len(mu)):\n",
    "    print('Site {}:'.format(i+1))\n",
    "    print('CAVgm = {:.2f} g-s\\n'.format(np.exp(mu[i])))"
   ]
  },
  {
   "cell_type": "markdown",
   "id": "8487fe92",
   "metadata": {},
   "source": [
    "### CAVdp"
   ]
  },
  {
   "cell_type": "code",
   "execution_count": 12,
   "id": "924f130e",
   "metadata": {},
   "outputs": [],
   "source": [
    "flag_CAVgm = 1 # '0' for recorded, '1' for gmm-based\n",
    "flag_PSV   = 1 # '0' for no PSV check, '1' otherwise"
   ]
  },
  {
   "cell_type": "code",
   "execution_count": 13,
   "id": "9b2002bf",
   "metadata": {},
   "outputs": [],
   "source": [
    "[mu,phi,tau] = gmms.CampbellBozorgnia2011.CampbellBozorgnia2011_cy(M,gmm_fdip,gmm_fZtor,R_JB,R_rup,R_x,site_Vs30,site_Z1p0,site_Z2p5,fnm,frv,flag_CAVgm,flag_PSV)"
   ]
  },
  {
   "cell_type": "code",
   "execution_count": 14,
   "id": "c8aee0a9",
   "metadata": {},
   "outputs": [
    {
     "name": "stdout",
     "output_type": "stream",
     "text": [
      "Site 1:\n",
      "CAVdp = 0.45 g-s\n",
      "\n",
      "Site 2:\n",
      "CAVdp = 0.30 g-s\n",
      "\n"
     ]
    }
   ],
   "source": [
    "for i in range(len(mu)):\n",
    "    print('Site {}:'.format(i+1))\n",
    "    print('CAVdp = {:.2f} g-s\\n'.format(np.exp(mu[i])))"
   ]
  },
  {
   "cell_type": "markdown",
   "id": "1f2a8af9",
   "metadata": {},
   "source": [
    "### CAV"
   ]
  },
  {
   "cell_type": "code",
   "execution_count": 15,
   "id": "e6ba784a",
   "metadata": {},
   "outputs": [],
   "source": [
    "[mu,phi,tau] = gmms.CampbellBozorgnia2019.CampbellBozorgnia2019_cy(1,M,gmm_fwidth,gmm_fdip,gmm_fZtor,hyp_Z,R_JB,R_rup,R_x,site_Vs30,site_Z2p5,fnm,frv,region)"
   ]
  },
  {
   "cell_type": "code",
   "execution_count": 16,
   "id": "fbc6059b",
   "metadata": {},
   "outputs": [
    {
     "name": "stdout",
     "output_type": "stream",
     "text": [
      "Site 1:\n",
      "CAV = 7.81 m/s\n",
      "\n",
      "Site 2:\n",
      "CAV = 5.92 m/s\n",
      "\n"
     ]
    }
   ],
   "source": [
    "for i in range(len(mu)):\n",
    "    print('Site {}:'.format(i+1))\n",
    "    print('CAV = {:.2f} m/s\\n'.format(np.exp(mu[i])))"
   ]
  },
  {
   "cell_type": "markdown",
   "id": "75be59e9",
   "metadata": {},
   "source": [
    "### Arias Intensity"
   ]
  },
  {
   "cell_type": "code",
   "execution_count": 17,
   "id": "bf9b8b62",
   "metadata": {},
   "outputs": [],
   "source": [
    "[mu,phi,tau] = gmms.CampbellBozorgnia2019.CampbellBozorgnia2019_cy(0,M,gmm_fwidth,gmm_fdip,gmm_fZtor,hyp_Z,R_JB,R_rup,R_x,site_Vs30,site_Z2p5,fnm,frv,region)"
   ]
  },
  {
   "cell_type": "code",
   "execution_count": 18,
   "id": "41937b27",
   "metadata": {},
   "outputs": [
    {
     "name": "stdout",
     "output_type": "stream",
     "text": [
      "Site 1:\n",
      "Ia = 0.27 m/s\n",
      "\n",
      "Site 2:\n",
      "Ia = 0.16 m/s\n",
      "\n"
     ]
    }
   ],
   "source": [
    "for i in range(len(mu)):\n",
    "    print('Site {}:'.format(i+1))\n",
    "    print('Ia = {:.2f} m/s\\n'.format(np.exp(mu[i])))"
   ]
  }
 ],
 "metadata": {
  "kernelspec": {
   "display_name": "Python 3 (ipykernel)",
   "language": "python",
   "name": "python3"
  },
  "language_info": {
   "codemirror_mode": {
    "name": "ipython",
    "version": 3
   },
   "file_extension": ".py",
   "mimetype": "text/x-python",
   "name": "python",
   "nbconvert_exporter": "python",
   "pygments_lexer": "ipython3",
   "version": "3.9.13"
  }
 },
 "nbformat": 4,
 "nbformat_minor": 5
}
