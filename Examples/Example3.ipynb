{
 "cells": [
  {
   "cell_type": "code",
   "execution_count": 1,
   "id": "6b022234",
   "metadata": {},
   "outputs": [],
   "source": [
    "import numpy as np\n",
    "import gmms"
   ]
  },
  {
   "cell_type": "markdown",
   "id": "98dbbb7c",
   "metadata": {},
   "source": [
    "# Example: 2003 Tokachi Earthquake"
   ]
  },
  {
   "cell_type": "markdown",
   "id": "a03f6760",
   "metadata": {},
   "source": [
    "## Earthquake parameters"
   ]
  },
  {
   "cell_type": "code",
   "execution_count": 2,
   "id": "b4949876",
   "metadata": {},
   "outputs": [],
   "source": [
    "M       = 8.29\n",
    "hyp_lat = 41.7796\n",
    "hyp_lon = 144.0786\n",
    "hyp_Z   = 25.0101"
   ]
  },
  {
   "cell_type": "markdown",
   "id": "de62a99f",
   "metadata": {},
   "source": [
    "## Fault model"
   ]
  },
  {
   "cell_type": "code",
   "execution_count": 3,
   "id": "e2aae8d5",
   "metadata": {},
   "outputs": [],
   "source": [
    "ULC_lat = 42.1796\n",
    "ULC_lon = 144.8114\n",
    "fZtor = 23.3\n",
    "flength = 120.\n",
    "fwidth  = 100.\n",
    "fstrike = 230.\n",
    "fdip    = 20.\n",
    "frake   = 90.\n",
    "fins = 0\n",
    "fint = 1"
   ]
  },
  {
   "cell_type": "markdown",
   "id": "ecd10895",
   "metadata": {},
   "source": [
    "## Site parameters"
   ]
  },
  {
   "cell_type": "code",
   "execution_count": 4,
   "id": "0546192d",
   "metadata": {},
   "outputs": [],
   "source": [
    "site_lat  = 40.9255\n",
    "site_lon  = 140.9527\n",
    "site_Vs30 = 289.219"
   ]
  },
  {
   "cell_type": "markdown",
   "id": "4c3e7f0b",
   "metadata": {},
   "source": [
    "## Convert to arrays"
   ]
  },
  {
   "cell_type": "code",
   "execution_count": 5,
   "id": "f3f0965e",
   "metadata": {},
   "outputs": [],
   "source": [
    "vals = []\n",
    "for val in zip([ULC_lat,ULC_lon,flength,fwidth,fstrike,fdip,frake,fZtor,site_lat,site_lon,site_Vs30]):\n",
    "    if isinstance(val[0],np.ndarray):\n",
    "        vals.append(val[0])\n",
    "    elif isinstance(val[0], (int, float)):\n",
    "        vals.append(np.array([float(val[0])]))\n",
    "    elif isinstance(val[0], (list, tuple)):\n",
    "        vals.append(np.array(val[0], dtype=float))\n",
    "    else:\n",
    "        vals.append(val[0])\n",
    "[ULC_lat,ULC_lon,flength,fwidth,fstrike,fdip,frake,fZtor,site_lat,site_lon,site_Vs30] = vals"
   ]
  },
  {
   "cell_type": "markdown",
   "id": "633888a9",
   "metadata": {},
   "source": [
    "## Compute fault parameters"
   ]
  },
  {
   "cell_type": "code",
   "execution_count": 6,
   "id": "ca94dbd6",
   "metadata": {},
   "outputs": [],
   "source": [
    "[URC_lat,URC_lon] = gmms.get_fault_URC(ULC_lat,ULC_lon,flength,fstrike)\n",
    "[fnm,frv,fmech]   = gmms.get_faulting_style(frake)"
   ]
  },
  {
   "cell_type": "markdown",
   "id": "ae6333d6",
   "metadata": {},
   "source": [
    "## Compute site parameters"
   ]
  },
  {
   "cell_type": "code",
   "execution_count": 7,
   "id": "d110012e",
   "metadata": {},
   "outputs": [],
   "source": [
    "[_,R_rup,_] = gmms.get_distances_cy(site_lat,site_lon,ULC_lat,ULC_lon,URC_lat,URC_lon,fwidth,flength,fdip,fstrike,fZtor)"
   ]
  },
  {
   "cell_type": "code",
   "execution_count": 8,
   "id": "f77f292f",
   "metadata": {},
   "outputs": [
    {
     "name": "stdout",
     "output_type": "stream",
     "text": [
      "Rrup = 224.55 km\n"
     ]
    }
   ],
   "source": [
    "print('Rrup = {:.2f} km'.format(R_rup[0]))"
   ]
  },
  {
   "cell_type": "markdown",
   "id": "277e148b",
   "metadata": {},
   "source": [
    "## Compute ground motion intensity measures"
   ]
  },
  {
   "cell_type": "markdown",
   "id": "f63b04fc",
   "metadata": {},
   "source": [
    "### Arias Intensity"
   ]
  },
  {
   "cell_type": "code",
   "execution_count": 9,
   "id": "f9f06100",
   "metadata": {},
   "outputs": [
    {
     "name": "stdout",
     "output_type": "stream",
     "text": [
      "Ia = 0.26 m/s\n"
     ]
    }
   ],
   "source": [
    "[mu,phi,tau] = gmms.FoulserPiggottGoda2015.FoulserPiggottGoda2015_cy(0,M,hyp_lat,hyp_lon,hyp_Z,R_rup,site_Vs30,fins,fint,fnm,frv)\n",
    "print('Ia = {:.2f} m/s'.format(np.exp(mu[0])))"
   ]
  },
  {
   "cell_type": "markdown",
   "id": "7f433d2c",
   "metadata": {},
   "source": [
    "### Cumulative absolute velocity"
   ]
  },
  {
   "cell_type": "code",
   "execution_count": 10,
   "id": "a379f026",
   "metadata": {},
   "outputs": [
    {
     "name": "stdout",
     "output_type": "stream",
     "text": [
      "CAV = 11.62 m/s\n"
     ]
    }
   ],
   "source": [
    "[mu,phi,tau] = gmms.FoulserPiggottGoda2015.FoulserPiggottGoda2015_cy(1,M,hyp_lat,hyp_lon,hyp_Z,R_rup,site_Vs30,fins,fint,fnm,frv)\n",
    "print('CAV = {:.2f} m/s'.format(np.exp(mu[0])))"
   ]
  }
 ],
 "metadata": {
  "kernelspec": {
   "display_name": "Python 3 (ipykernel)",
   "language": "python",
   "name": "python3"
  },
  "language_info": {
   "codemirror_mode": {
    "name": "ipython",
    "version": 3
   },
   "file_extension": ".py",
   "mimetype": "text/x-python",
   "name": "python",
   "nbconvert_exporter": "python",
   "pygments_lexer": "ipython3",
   "version": "3.9.13"
  }
 },
 "nbformat": 4,
 "nbformat_minor": 5
}
